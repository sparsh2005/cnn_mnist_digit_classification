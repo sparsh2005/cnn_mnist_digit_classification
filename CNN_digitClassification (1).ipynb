{
 "cells": [
  {
   "cell_type": "code",
   "execution_count": 1,
   "id": "8331890e",
   "metadata": {},
   "outputs": [],
   "source": [
    "from numpy import unique, argmax\n",
    "from tensorflow.keras.datasets.mnist import load_data\n",
    "from tensorflow.keras import Sequential\n",
    "from tensorflow.keras.layers import Conv2D\n",
    "from tensorflow.keras.layers import MaxPool2D\n",
    "from tensorflow.keras.layers import Dense\n",
    "from tensorflow.keras.layers import Flatten\n",
    "from tensorflow.keras.layers import Dropout\n",
    "from tensorflow.keras.utils import plot_model\n",
    "from matplotlib import pyplot\n",
    "import matplotlib.pyplot as plt\n",
    "import numpy as np"
   ]
  },
  {
   "cell_type": "code",
   "execution_count": 2,
   "id": "6419da91",
   "metadata": {},
   "outputs": [],
   "source": [
    "#loading the MNIST dataset\n",
    "(x_train, y_train), (x_test, y_test) = load_data()\n",
    "#reshaping the training and testing data\n",
    "x_train=x_train.reshape((x_train.shape[0], x_train.shape[1],\n",
    "                        x_train.shape[2], 1))\n",
    "x_test=x_test.reshape((x_test.shape[0], x_test.shape[1], x_test.shape[2], 1))"
   ]
  },
  {
   "cell_type": "code",
   "execution_count": 3,
   "id": "9b10f0ff",
   "metadata": {},
   "outputs": [],
   "source": [
    "#normalising the values of pixels of images\n",
    "x_train=x_train.astype('float32')/255.0\n",
    "x_test=x_test.astype('float32')/255.0"
   ]
  },
  {
   "cell_type": "code",
   "execution_count": 4,
   "id": "46939d62",
   "metadata": {},
   "outputs": [
    {
     "data": {
      "image/png": "[encoded data removed]",
      "text/plain": [
       "<Figure size 500x300 with 15 Axes>"
      ]
     },
     "metadata": {},
     "output_type": "display_data"
    }
   ],
   "source": [
    "fig=plt.figure(figsize=(5,3))\n",
    "for i in range(15):\n",
    "    ax=fig.add_subplot(2,10, i+1, xticks=[], yticks=[])\n",
    "    ax.imshow(np.squeeze(x_train[i]), cmap='gray')\n",
    "    ax.set_title(y_train[i])"
   ]
  },
  {
   "cell_type": "code",
   "execution_count": 5,
   "id": "e77ae7cb",
   "metadata": {},
   "outputs": [
    {
     "name": "stdout",
     "output_type": "stream",
     "text": [
      "(28, 28, 1)\n"
     ]
    }
   ],
   "source": [
    "#determine the shape of the input images\n",
    "img_shape=x_train.shape[1:]\n",
    "print(img_shape)"
   ]
  },
  {
   "cell_type": "code",
   "execution_count": 6,
   "id": "42802df5",
   "metadata": {},
   "outputs": [],
   "source": [
    "#defining the model\n",
    "model=Sequential()\n",
    "model.add(Conv2D(32, (3,3), activation='relu', input_shape=img_shape))\n",
    "model.add(MaxPool2D((2, 2)))\n",
    "model.add(Conv2D(48, (3,3), activation='relu'))\n",
    "model.add(MaxPool2D((2, 2)))\n",
    "model.add(Dropout(0.5))\n",
    "model.add(Flatten())\n",
    "model.add(Dense(500, activation='relu'))\n",
    "model.add(Dense(10, activation='softmax'))"
   ]
  },
  {
   "cell_type": "code",
   "execution_count": 7,
   "id": "ea9a1fce",
   "metadata": {},
   "outputs": [
    {
     "name": "stdout",
     "output_type": "stream",
     "text": [
      "Model: \"sequential\"\n",
      "_________________________________________________________________\n",
      " Layer (type)                Output Shape              Param #   \n",
      "=================================================================\n",
      " conv2d (Conv2D)             (None, 26, 26, 32)        320       \n",
      "                                                                 \n",
      " max_pooling2d (MaxPooling2  (None, 13, 13, 32)        0         \n",
      " D)                                                              \n",
      "                                                                 \n",
      " conv2d_1 (Conv2D)           (None, 11, 11, 48)        13872     \n",
      "                                                                 \n",
      " max_pooling2d_1 (MaxPoolin  (None, 5, 5, 48)          0         \n",
      " g2D)                                                            \n",
      "                                                                 \n",
      " dropout (Dropout)           (None, 5, 5, 48)          0         \n",
      "                                                                 \n",
      " flatten (Flatten)           (None, 1200)              0         \n",
      "                                                                 \n",
      " dense (Dense)               (None, 500)               600500    \n",
      "                                                                 \n",
      " dense_1 (Dense)             (None, 10)                5010      \n",
      "                                                                 \n",
      "=================================================================\n",
      "Total params: 619702 (2.36 MB)\n",
      "Trainable params: 619702 (2.36 MB)\n",
      "Non-trainable params: 0 (0.00 Byte)\n",
      "_________________________________________________________________\n"
     ]
    }
   ],
   "source": [
    "model.summary()"
   ]
  },
  {
   "cell_type": "code",
   "execution_count": 13,
   "id": "4685401e",
   "metadata": {},
   "outputs": [
    {
     "name": "stdout",
     "output_type": "stream",
     "text": [
      "Collecting pydot\n",
      "  Downloading pydot-1.4.2-py2.py3-none-any.whl (21 kB)\n",
      "Requirement already satisfied: pyparsing>=2.1.4 in ./anaconda3/lib/python3.10/site-packages (from pydot) (3.0.9)\n",
      "Installing collected packages: pydot\n",
      "Successfully installed pydot-1.4.2\n",
      "Note: you may need to restart the kernel to use updated packages.\n"
     ]
    }
   ],
   "source": [
    "pip install pydot"
   ]
  },
  {
   "cell_type": "code",
   "execution_count": 8,
   "id": "8832508c",
   "metadata": {},
   "outputs": [
    {
     "name": "stdout",
     "output_type": "stream",
     "text": [
      "You must install pydot (`pip install pydot`) and install graphviz (see instructions at https://graphviz.gitlab.io/download/) for plot_model to work.\n"
     ]
    }
   ],
   "source": [
    "plot_model(model, 'model.jpg', show_shapes=True)"
   ]
  },
  {
   "cell_type": "code",
   "execution_count": 10,
   "id": "2a46b4fb",
   "metadata": {},
   "outputs": [
    {
     "name": "stdout",
     "output_type": "stream",
     "text": [
      "Epoch 1/10\n",
      "422/422 - 8s - loss: 0.2383 - accuracy: 0.9279 - val_loss: 0.0622 - val_accuracy: 0.9822 - 8s/epoch - 20ms/step\n",
      "Epoch 2/10\n",
      "422/422 - 8s - loss: 0.0797 - accuracy: 0.9746 - val_loss: 0.0370 - val_accuracy: 0.9907 - 8s/epoch - 19ms/step\n",
      "Epoch 3/10\n",
      "422/422 - 8s - loss: 0.0581 - accuracy: 0.9821 - val_loss: 0.0301 - val_accuracy: 0.9925 - 8s/epoch - 18ms/step\n",
      "Epoch 4/10\n",
      "422/422 - 7s - loss: 0.0462 - accuracy: 0.9852 - val_loss: 0.0307 - val_accuracy: 0.9917 - 7s/epoch - 17ms/step\n",
      "Epoch 5/10\n",
      "422/422 - 7s - loss: 0.0392 - accuracy: 0.9878 - val_loss: 0.0327 - val_accuracy: 0.9922 - 7s/epoch - 17ms/step\n",
      "Epoch 6/10\n",
      "422/422 - 7s - loss: 0.0344 - accuracy: 0.9886 - val_loss: 0.0279 - val_accuracy: 0.9928 - 7s/epoch - 17ms/step\n",
      "Epoch 7/10\n",
      "422/422 - 7s - loss: 0.0314 - accuracy: 0.9899 - val_loss: 0.0305 - val_accuracy: 0.9925 - 7s/epoch - 18ms/step\n",
      "Epoch 8/10\n",
      "422/422 - 7s - loss: 0.0269 - accuracy: 0.9909 - val_loss: 0.0268 - val_accuracy: 0.9918 - 7s/epoch - 18ms/step\n",
      "Epoch 9/10\n",
      "422/422 - 7s - loss: 0.0259 - accuracy: 0.9916 - val_loss: 0.0258 - val_accuracy: 0.9945 - 7s/epoch - 18ms/step\n",
      "Epoch 10/10\n",
      "422/422 - 7s - loss: 0.0246 - accuracy: 0.9916 - val_loss: 0.0266 - val_accuracy: 0.9935 - 7s/epoch - 18ms/step\n"
     ]
    }
   ],
   "source": [
    "model.compile(optimizer='adam', loss='sparse_categorical_crossentropy', metrics=['accuracy'])\n",
    "x=model.fit(x_train,y_train, epochs=10, batch_size=128, verbose=2, validation_split=0.1)"
   ]
  },
  {
   "cell_type": "code",
   "execution_count": 11,
   "id": "c6f442d7",
   "metadata": {},
   "outputs": [
    {
     "name": "stdout",
     "output_type": "stream",
     "text": [
      "Accuracy: 99.26000237464905\n"
     ]
    }
   ],
   "source": [
    "loss, accuracy=model.evaluate(x_test, y_test, verbose=0)\n",
    "print(f'Accuracy: {accuracy*100}')"
   ]
  },
  {
   "cell_type": "code",
   "execution_count": 12,
   "id": "ef99bd66",
   "metadata": {},
   "outputs": [
    {
     "data": {
      "image/png": "[encoded data removed]",
      "text/plain": [
       "<Figure size 640x480 with 1 Axes>"
      ]
     },
     "metadata": {},
     "output_type": "display_data"
    }
   ],
   "source": [
    "image=x_train[5]\n",
    "#lets display the image which we want to predict\n",
    "plt.imshow(np.squeeze(image), cmap='gray')\n",
    "plt.show()"
   ]
  },
  {
   "cell_type": "code",
   "execution_count": 13,
   "id": "943f7a99",
   "metadata": {},
   "outputs": [
    {
     "name": "stdout",
     "output_type": "stream",
     "text": [
      "1/1 [==============================] - 0s 51ms/step\n",
      "Predicted: 2\n"
     ]
    }
   ],
   "source": [
    "image= image.reshape(1, image.shape[0], image.shape[1], image.shape[2])\n",
    "p=model.predict([image])\n",
    "print('Predicted: {}'.format(argmax(p)))"
   ]
  },
  {
   "cell_type": "code",
   "execution_count": 17,
   "id": "562c8484",
   "metadata": {},
   "outputs": [
    {
     "data": {
      "image/png": "[encoded data removed]",
      "text/plain": [
       "<Figure size 640x480 with 1 Axes>"
      ]
     },
     "metadata": {},
     "output_type": "display_data"
    },
    {
     "name": "stdout",
     "output_type": "stream",
     "text": [
      "1/1 [==============================] - 0s 9ms/step\n",
      "Predicted: 4\n"
     ]
    }
   ],
   "source": [
    "image=x_train[2]\n",
    "plt.imshow(np.squeeze(image), cmap='gray')\n",
    "plt.show()\n",
    "image= image.reshape(1, image.shape[0], image.shape[1], image.shape[2])\n",
    "p=model.predict([image])\n",
    "print('Predicted: {}'.format(argmax(p)))"
   ]
  },
  {
   "cell_type": "code",
   "execution_count": null,
   "id": "4fdef25c",
   "metadata": {},
   "outputs": [],
   "source": []
  }
 ],
 "metadata": {
  "kernelspec": {
   "display_name": "Python 3 (ipykernel)",
   "language": "python",
   "name": "python3"
  },
  "language_info": {
   "codemirror_mode": {
    "name": "ipython",
    "version": 3
   },
   "file_extension": ".py",
   "mimetype": "text/x-python",
   "name": "python",
   "nbconvert_exporter": "python",
   "pygments_lexer": "ipython3",
   "version": "3.10.9"
  }
 },
 "nbformat": 4,
 "nbformat_minor": 5
}
